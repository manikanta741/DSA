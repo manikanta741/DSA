{
  "nbformat": 4,
  "nbformat_minor": 0,
  "metadata": {
    "colab": {
      "provenance": [],
      "authorship_tag": "ABX9TyP63CVF97/JYey2j9hJPgHW",
      "include_colab_link": true
    },
    "kernelspec": {
      "name": "python3",
      "display_name": "Python 3"
    },
    "language_info": {
      "name": "python"
    }
  },
  "cells": [
    {
      "cell_type": "markdown",
      "metadata": {
        "id": "view-in-github",
        "colab_type": "text"
      },
      "source": [
        "<a href=\"https://colab.research.google.com/github/manikanta741/DSA/blob/main/stgfg.ipynb\" target=\"_parent\"><img src=\"https://colab.research.google.com/assets/colab-badge.svg\" alt=\"Open In Colab\"/></a>"
      ]
    },
    {
      "cell_type": "code",
      "source": [
        "# Initialize an empty stack\n",
        "stack = []\n",
        "\n",
        "# Push elements into the stack\n",
        "stack.append(1)  # Push 1\n",
        "stack.append(2)  # Push 2\n",
        "stack.append(3)  # Push 3\n",
        "\n",
        "# Pop elements from the stack\n",
        "print(stack.pop())  # Output: 3\n",
        "print(stack.pop())  # Output: 2\n"
      ],
      "metadata": {
        "id": "CgGkb97pOWC6"
      },
      "execution_count": null,
      "outputs": []
    },
    {
      "cell_type": "code",
      "source": [
        "\n",
        "stack = []\n",
        "\n",
        "n = int(input(\"Enter the number of elements you want to push onto the stack: \"))\n",
        "\n",
        "for i in range(n):\n",
        "    element = input(f\"Enter element {i + 1}: \")\n",
        "    stack.append(element)\n",
        "\n",
        "print(\"Stack after pushing elements:\", stack)\n",
        "\n",
        "while stack:\n",
        "    print(\"Popped element:\", stack.pop())\n",
        "print(stack.peek())"
      ],
      "metadata": {
        "id": "mLUSGEkjOD8O"
      },
      "execution_count": null,
      "outputs": []
    },
    {
      "cell_type": "code",
      "execution_count": 5,
      "metadata": {
        "colab": {
          "base_uri": "https://localhost:8080/",
          "height": 70
        },
        "id": "YZs5vIWlNLa5",
        "outputId": "4d62da8f-f5d3-468e-d405-fc933d8bfd4b"
      },
      "outputs": [
        {
          "output_type": "stream",
          "name": "stdout",
          "text": [
            "3\n",
            "True\n"
          ]
        },
        {
          "output_type": "execute_result",
          "data": {
            "text/plain": [
              "'3'"
            ],
            "application/vnd.google.colaboratory.intrinsic+json": {
              "type": "string"
            }
          },
          "metadata": {},
          "execution_count": 5
        }
      ],
      "source": [
        "# Python program to\n",
        "# demonstrate stack implementation\n",
        "# using collections.deque\n",
        "\n",
        "from collections import deque\n",
        "\n",
        "stack = deque()\n",
        "\n",
        "# append() function to push\n",
        "# element in the stack\n",
        "stack.append('a')\n",
        "stack.append('b')\n",
        "stack.append('c')\n",
        "\n",
        "print('Initial stack:')\n",
        "print(stack)\n",
        "\n",
        "# pop() function to pop\n",
        "# element from stack in\n",
        "# LIFO order\n",
        "print('\\nElements popped from stack:')\n",
        "print(stack.pop())\n",
        "print(stack.pop())\n",
        "print(stack.pop())\n",
        "\n",
        "print('\\nStack after elements are popped:')\n",
        "print(stack)\n",
        "\n",
        "\n"
      ]
    },
    {
      "cell_type": "code",
      "source": [
        "# Initializing a stack\n",
        "stack = LifoQueue(maxsize=3)\n",
        "\n",
        "# qsize() show the number of elements\n",
        "# in the stack\n",
        "print(stack.qsize())\n",
        "\n",
        "# put() function to push\n",
        "# element in the stack\n",
        "stack.put('a')\n",
        "stack.put('b')\n",
        "stack.put('c')\n",
        "\n",
        "print(\"Full: \", stack.full())\n",
        "print(\"Size: \", stack.qsize())\n",
        "\n",
        "# get() function to pop\n",
        "# element from stack in\n",
        "# LIFO order\n",
        "print('\\nElements popped from the stack')\n",
        "print(stack.get())\n",
        "print(stack.get())\n",
        "print(stack.get())\n",
        "\n",
        "print(\"\\nEmpty: \", stack.empty())"
      ],
      "metadata": {
        "id": "xX1fpocKOmyv"
      },
      "execution_count": null,
      "outputs": []
    },
    {
      "cell_type": "code",
      "source": [
        "# Python program to check if parentheses are balanced\n",
        "\n",
        "def isBalanced(s):\n",
        "\n",
        "    # Declare a stack to store the opening brackets\n",
        "    st = []\n",
        "    for i in range(len(s)):\n",
        "\n",
        "        # Check if the character is an opening bracket\n",
        "        if s[i] == '(' or s[i] == '{' or s[i] == '[':\n",
        "            st.append(s[i])\n",
        "\n",
        "        else:\n",
        "            # If it's a closing bracket, check if the stack is non-empty\n",
        "            # and if the top of the stack is a matching opening bracket\n",
        "            if st and ((st[-1] == '(' and s[i] == ')') or\n",
        "                       (st[-1] == '{' and s[i] == '}') or\n",
        "                       (st[-1] == '[' and s[i] == ']')):\n",
        "\n",
        "                # Pop the matching opening bracket\n",
        "                st.pop()\n",
        "            else:\n",
        "                # Unmatched closing bracket\n",
        "                return False\n",
        "\n",
        "    # If stack is empty, return True (balanced), otherwise False\n",
        "    return not st\n",
        "\n",
        "\n",
        "if __name__ == \"__main__\":\n",
        "    s = \"{([])}\"\n",
        "    if isBalanced(s):\n",
        "        print(\"true\")\n",
        "    else:\n",
        "        print(\"false\")"
      ],
      "metadata": {
        "id": "4ZCrRAcBWzDW"
      },
      "execution_count": null,
      "outputs": []
    },
    {
      "cell_type": "code",
      "source": [
        "# Function to reverse a string using stack\n",
        "def reverse_string(s):\n",
        "    stack = []\n",
        "\n",
        "    # Push all characters of the string onto the stack\n",
        "    for char in s:\n",
        "        stack.append(char)\n",
        "\n",
        "    # Pop characters from the stack and build the reversed string\n",
        "    reversed_str = \"\"\n",
        "    while stack:\n",
        "        reversed_str += stack.pop()\n",
        "\n",
        "    return reversed_str\n",
        "\n",
        "# Test the function\n",
        "input_string = \"Hello, World!\"\n",
        "reversed_string = reverse_string(input_string)\n",
        "print(\"Original String:\", input_string)\n",
        "print(\"Reversed String:\", reversed_string)\n"
      ],
      "metadata": {
        "id": "e8IkJzYOXxQw"
      },
      "execution_count": null,
      "outputs": []
    }
  ]
}