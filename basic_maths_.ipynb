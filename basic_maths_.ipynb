{
  "nbformat": 4,
  "nbformat_minor": 0,
  "metadata": {
    "colab": {
      "provenance": [],
      "authorship_tag": "ABX9TyMFXpXP6nSv5YppNRTNlbPr",
      "include_colab_link": true
    },
    "kernelspec": {
      "name": "python3",
      "display_name": "Python 3"
    },
    "language_info": {
      "name": "python"
    }
  },
  "cells": [
    {
      "cell_type": "markdown",
      "metadata": {
        "id": "view-in-github",
        "colab_type": "text"
      },
      "source": [
        "<a href=\"https://colab.research.google.com/github/manikanta741/DSA/blob/main/basic_maths_.ipynb\" target=\"_parent\"><img src=\"https://colab.research.google.com/assets/colab-badge.svg\" alt=\"Open In Colab\"/></a>"
      ]
    },
    {
      "cell_type": "code",
      "execution_count": 5,
      "metadata": {
        "colab": {
          "base_uri": "https://localhost:8080/"
        },
        "id": "Mx7ZWeCySfzC",
        "outputId": "3751a0a4-c966-40c3-b8ca-d21237edc7af"
      },
      "outputs": [
        {
          "output_type": "stream",
          "name": "stdout",
          "text": [
            "3\n"
          ]
        }
      ],
      "source": [
        "#coumt digits of a number\n",
        "num=121\n",
        "count=0\n",
        "while num>0:\n",
        "  count+=1\n",
        "  num=num//10\n",
        "print(count)"
      ]
    },
    {
      "cell_type": "code",
      "source": [
        "#reverse of  a num\n",
        "num=123\n",
        "rev=0\n",
        "while num>0:\n",
        "  rem=num%10\n",
        "  rev=rev*10+rem\n",
        "  num=num//10\n",
        "print(rev)"
      ],
      "metadata": {
        "colab": {
          "base_uri": "https://localhost:8080/"
        },
        "id": "wEMnV2CJTEa4",
        "outputId": "be344d1f-2e66-42d5-cf35-3cbb7128c56b"
      },
      "execution_count": 7,
      "outputs": [
        {
          "output_type": "stream",
          "name": "stdout",
          "text": [
            "321\n"
          ]
        }
      ]
    },
    {
      "cell_type": "code",
      "source": [
        "#palindrome\n",
        "num=123\n",
        "temp=num\n",
        "rev=0\n",
        "while num>0:\n",
        "  rem=num%10\n",
        "  rev=rev*10+rem\n",
        "  num=num//10\n",
        "if temp==rev:\n",
        "  print(\"palindrome\")\n",
        "else:\n",
        "  print(\"not palindrome\")"
      ],
      "metadata": {
        "colab": {
          "base_uri": "https://localhost:8080/"
        },
        "id": "LlfVCb7lUzgc",
        "outputId": "b728728b-071e-4293-bbc2-fb904a07332a"
      },
      "execution_count": 8,
      "outputs": [
        {
          "output_type": "stream",
          "name": "stdout",
          "text": [
            "not palindrome\n"
          ]
        }
      ]
    },
    {
      "cell_type": "code",
      "source": [
        "#armstrong num\n",
        "num=153\n",
        "temp=num\n",
        "sum=0\n",
        "while num>0:\n",
        "  dig=num%10\n",
        "  sum=sum+dig**3\n",
        "  num=num//10\n",
        "if temp==sum:\n",
        "    print(\"armstrong\")\n",
        "else:\n",
        "    print(\"not armstrong\")\n"
      ],
      "metadata": {
        "colab": {
          "base_uri": "https://localhost:8080/"
        },
        "id": "csMyS7NuU_No",
        "outputId": "6f9ef8cd-d7ae-4e8e-a4aa-ed1249fcfba6"
      },
      "execution_count": 13,
      "outputs": [
        {
          "output_type": "stream",
          "name": "stdout",
          "text": [
            "armstrong\n"
          ]
        }
      ]
    },
    {
      "cell_type": "code",
      "source": [
        "#all divisors of a num\n",
        "num=10\n",
        "for i  in range(1,num):\n",
        "  if num%i==0:\n",
        "    print(i)"
      ],
      "metadata": {
        "colab": {
          "base_uri": "https://localhost:8080/"
        },
        "id": "3Rwlk7cNVmAn",
        "outputId": "41422a17-c5e1-46cf-8d29-d0b766ec58a3"
      },
      "execution_count": 17,
      "outputs": [
        {
          "output_type": "stream",
          "name": "stdout",
          "text": [
            "1\n",
            "2\n",
            "5\n"
          ]
        }
      ]
    },
    {
      "cell_type": "code",
      "source": [
        "#prime or not\n",
        "num=9\n",
        "for i in range(2,num):\n",
        "  if num%i==0:\n",
        "    print(\"not prime\")\n",
        "    break\n",
        "else:\n",
        "  print(\"prime\")\n"
      ],
      "metadata": {
        "colab": {
          "base_uri": "https://localhost:8080/"
        },
        "id": "hM8TDzAaVruS",
        "outputId": "819fce61-cdc6-41b6-c170-107145ab9d95"
      },
      "execution_count": 20,
      "outputs": [
        {
          "output_type": "stream",
          "name": "stdout",
          "text": [
            "not prime\n"
          ]
        }
      ]
    },
    {
      "cell_type": "code",
      "source": [
        "#sumof first n numbers\n",
        "n=10\n",
        "sum=0\n",
        "for i in range(1,n+1):\n",
        "  sum=sum+i\n",
        "print(sum)"
      ],
      "metadata": {
        "colab": {
          "base_uri": "https://localhost:8080/"
        },
        "id": "bbQOrqw2WGgF",
        "outputId": "c8561e3d-3bf9-483a-8ebd-c39e8e8184ac"
      },
      "execution_count": 21,
      "outputs": [
        {
          "output_type": "stream",
          "name": "stdout",
          "text": [
            "55\n"
          ]
        }
      ]
    },
    {
      "cell_type": "code",
      "source": [
        "#factorial of a num\n",
        "num=5\n",
        "if num==0:\n",
        "  print(1)\n",
        "else:\n",
        "  fact=1\n",
        "  for i in range(1,num+1):\n",
        "    fact=fact*i\n",
        "  print(fact)"
      ],
      "metadata": {
        "colab": {
          "base_uri": "https://localhost:8080/"
        },
        "id": "GmUiQg_sWKQF",
        "outputId": "b6f3d114-9948-4be3-8db1-eb19fe0c428b"
      },
      "execution_count": 22,
      "outputs": [
        {
          "output_type": "stream",
          "name": "stdout",
          "text": [
            "120\n"
          ]
        }
      ]
    },
    {
      "cell_type": "code",
      "source": [
        "#reverse an array\n",
        "arr1=[1,2,3,4,5]\n",
        "n=len(arr1)\n",
        "for i in range(n//2):\n",
        "  arr1[i],arr1[n-i-1]=arr1[n-i-1],arr1[i]\n",
        "print(arr1)\n"
      ],
      "metadata": {
        "colab": {
          "base_uri": "https://localhost:8080/"
        },
        "id": "tJlUGRmoWV5R",
        "outputId": "647e3f3c-2561-474c-8452-05bc32109797"
      },
      "execution_count": 27,
      "outputs": [
        {
          "output_type": "stream",
          "name": "stdout",
          "text": [
            "[5, 4, 3, 2, 1]\n"
          ]
        }
      ]
    },
    {
      "cell_type": "code",
      "source": [
        "#string is palindrome or not\n",
        "str1=\"madam\"\n",
        "if str1==str1[::-1]:\n",
        "  print(\"palindrome\")\n",
        "else:\n",
        "  print(\"not palindrome\")"
      ],
      "metadata": {
        "colab": {
          "base_uri": "https://localhost:8080/"
        },
        "id": "iFhz8YbWXDNQ",
        "outputId": "86571b76-753f-48a6-febe-e3a6c2181139"
      },
      "execution_count": 29,
      "outputs": [
        {
          "output_type": "stream",
          "name": "stdout",
          "text": [
            "palindrome\n"
          ]
        }
      ]
    },
    {
      "cell_type": "code",
      "source": [
        "#fibanocci\n",
        "num=10\n",
        "a=0\n",
        "b=1\n",
        "for i in  range(num):\n",
        "  print(a)\n",
        "  a,b=b,a+b\n"
      ],
      "metadata": {
        "colab": {
          "base_uri": "https://localhost:8080/"
        },
        "id": "DZKA5qCwXPqH",
        "outputId": "00e3e7d1-42f9-4989-a2b3-b8e02dd5d460"
      },
      "execution_count": 30,
      "outputs": [
        {
          "output_type": "stream",
          "name": "stdout",
          "text": [
            "0\n",
            "1\n",
            "1\n",
            "2\n",
            "3\n",
            "5\n",
            "8\n",
            "13\n",
            "21\n",
            "34\n"
          ]
        }
      ]
    },
    {
      "cell_type": "code",
      "source": [
        "#counting frequency of eleents\n",
        "arr1=[1,2,3,2,1,4,1,5]\n",
        "freq={}\n",
        "for i in range(len(arr1)):\n",
        "  if arr1[i] in freq:\n",
        "    freq [arr1[i]]+=1\n",
        "  else:\n",
        "    freq[arr1[i]]=1\n",
        "print(freq)\n"
      ],
      "metadata": {
        "colab": {
          "base_uri": "https://localhost:8080/"
        },
        "id": "efaeQLxyXfZ6",
        "outputId": "2edbaad7-1c06-42df-d8a2-0a318e333a83"
      },
      "execution_count": 40,
      "outputs": [
        {
          "output_type": "stream",
          "name": "stdout",
          "text": [
            "{1: 3, 2: 2, 3: 1, 4: 1, 5: 1}\n"
          ]
        }
      ]
    },
    {
      "cell_type": "code",
      "source": [
        "#counting frequency of eleents\n",
        "arr1=[1,2,3,2,1,4,1,5]\n",
        "freq={}\n",
        "for i in range(len(arr1)):\n",
        "  if arr1[i] in freq:\n",
        "    freq[arr1[i]]+=1\n",
        "  else:\n",
        "    freq[arr1[i]]=1\n",
        "print(freq)\n",
        "most_freq=max(freq,key=freq.get)\n",
        "least_freq=min(freq,key=freq.get)\n",
        "print(most_freq)\n",
        "print(least_freq)\n"
      ],
      "metadata": {
        "colab": {
          "base_uri": "https://localhost:8080/"
        },
        "id": "BO25x3Q_X363",
        "outputId": "db26fc51-1026-439a-8b2d-0b5455c2cf28"
      },
      "execution_count": 41,
      "outputs": [
        {
          "output_type": "stream",
          "name": "stdout",
          "text": [
            "{1: 3, 2: 2, 3: 1, 4: 1, 5: 1}\n",
            "1\n",
            "3\n"
          ]
        }
      ]
    },
    {
      "cell_type": "code",
      "source": [],
      "metadata": {
        "id": "4r2zmOmbZKEI"
      },
      "execution_count": null,
      "outputs": []
    }
  ]
}