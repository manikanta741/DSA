{
  "nbformat": 4,
  "nbformat_minor": 0,
  "metadata": {
    "colab": {
      "provenance": [],
      "authorship_tag": "ABX9TyNuKD9MbQvS2Hxak62trq+H",
      "include_colab_link": true
    },
    "kernelspec": {
      "name": "python3",
      "display_name": "Python 3"
    },
    "language_info": {
      "name": "python"
    }
  },
  "cells": [
    {
      "cell_type": "markdown",
      "metadata": {
        "id": "view-in-github",
        "colab_type": "text"
      },
      "source": [
        "<a href=\"https://colab.research.google.com/github/manikanta741/DSA/blob/main/Untitled150.ipynb\" target=\"_parent\"><img src=\"https://colab.research.google.com/assets/colab-badge.svg\" alt=\"Open In Colab\"/></a>"
      ]
    },
    {
      "cell_type": "code",
      "execution_count": null,
      "metadata": {
        "id": "KFxSZHpQ-FuY"
      },
      "outputs": [],
      "source": [
        " \"\"\"\"House Price Prediction\n",
        "Skills: Regression, feature engineering\n",
        "Dataset: Kaggle Housing Prices\n",
        "Tasks:\n",
        "\n",
        "Predict house prices using features like area, location, etc.\n",
        "\n",
        "Handle missing data, encode categorical columns\n",
        "\n",
        "Train a linear regression or random forest model\"\"\""
      ]
    },
    {
      "cell_type": "code",
      "source": [
        "🏡 Boston Housing Dataset - Column Descriptions\n",
        "Column\tDescription\n",
        "crim\tCrime rate per capita by town\n",
        "zn\tProportion of residential land zoned for large lots (over 25,000 sq. ft.)\n",
        "indus\tProportion of non-retail business acres per town\n",
        "chas\tCharles River dummy variable (= 1 if tract bounds river; 0 otherwise)\n",
        "nox\tNitric oxides concentration (air pollution, in parts per 10 million)\n",
        "rm\tAverage number of rooms per dwelling\n",
        "age\tProportion of owner-occupied units built before 1940\n",
        "dis\tWeighted distance to 5 Boston employment centers\n",
        "rad\tIndex of accessibility to radial highways\n",
        "tax\tProperty tax rate per $10,000\n",
        "ptratio\tPupil-to-teacher ratio by town\n",
        "b\t1000(Bk - 0.63)², where Bk is proportion of Black population\n",
        "lstat\tPercentage of lower status population\n",
        "medv\tMedian value of owner-occupied homes in $1000s (target variable)\n"
      ],
      "metadata": {
        "id": "V14m7wRtCQrK"
      },
      "execution_count": null,
      "outputs": []
    },
    {
      "cell_type": "code",
      "source": [
        "import pandas as pd\n",
        "import numpy as np\n",
        "import matplotlib.pyplot as plt\n",
        "import seaborn as sns\n",
        "\n",
        "from sklearn.model_selection import train_test_split\n",
        "from sklearn.preprocessing import StandardScaler\n",
        "from sklearn.linear_model import LinearRegression, Ridge, Lasso\n",
        "from sklearn.ensemble import RandomForestRegressor\n",
        "from xgboost import XGBRegressor\n",
        "\n",
        "from sklearn.metrics import mean_squared_error, r2_score\n"
      ],
      "metadata": {
        "id": "ZeF3Y4pdAsZZ"
      },
      "execution_count": 1,
      "outputs": []
    },
    {
      "cell_type": "code",
      "source": [
        "data = pd.read_csv('/content/archive (21).zip')  # use your actual dataset\n"
      ],
      "metadata": {
        "id": "lOB0x4YdAuDe"
      },
      "execution_count": 3,
      "outputs": []
    },
    {
      "cell_type": "code",
      "source": [
        "data = pd.get_dummies(data, drop_first=True)\n",
        "data.dropna(inplace=True)\n"
      ],
      "metadata": {
        "id": "MDsI4InJBiSq"
      },
      "execution_count": 4,
      "outputs": []
    },
    {
      "cell_type": "code",
      "source": [
        "x = data.drop('medv', axis=1)\n",
        "y = data['medv']\n"
      ],
      "metadata": {
        "id": "1YTFBXfyBxRi"
      },
      "execution_count": 8,
      "outputs": []
    }
  ]
}