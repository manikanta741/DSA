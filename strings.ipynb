{
  "nbformat": 4,
  "nbformat_minor": 0,
  "metadata": {
    "colab": {
      "provenance": [],
      "authorship_tag": "ABX9TyNbsfoSaOt0fmP5YGrIUuxn",
      "include_colab_link": true
    },
    "kernelspec": {
      "name": "python3",
      "display_name": "Python 3"
    },
    "language_info": {
      "name": "python"
    }
  },
  "cells": [
    {
      "cell_type": "markdown",
      "metadata": {
        "id": "view-in-github",
        "colab_type": "text"
      },
      "source": [
        "<a href=\"https://colab.research.google.com/github/manikanta741/DSA/blob/main/strings.ipynb\" target=\"_parent\"><img src=\"https://colab.research.google.com/assets/colab-badge.svg\" alt=\"Open In Colab\"/></a>"
      ]
    },
    {
      "cell_type": "code",
      "execution_count": 1,
      "metadata": {
        "colab": {
          "base_uri": "https://localhost:8080/"
        },
        "id": "H3z71bogo7bC",
        "outputId": "4be792ea-abf9-418c-a0ce-1d961f51577b"
      },
      "outputs": [
        {
          "output_type": "stream",
          "name": "stdout",
          "text": [
            "engineering of college aditya\n"
          ]
        }
      ],
      "source": [
        "#reverse the words of a string\n",
        "str1=\"aditya college of engineering\"\n",
        "words=str1.split()\n",
        "reversed_words=words[::-1]\n",
        "str1=\" \".join(reversed_words)\n",
        "print(str1)"
      ]
    },
    {
      "cell_type": "code",
      "source": [
        "#one string is rotation of another or not\n",
        "str1=\"abc\"\n",
        "str2=\"bac\"\n",
        "str3=str1+str2\n",
        "if str1 in str3:\n",
        "  print(\"one string is rotation of another string\")\n",
        "else:\n",
        "  print(\"one string is not rotation of another string\")"
      ],
      "metadata": {
        "colab": {
          "base_uri": "https://localhost:8080/"
        },
        "id": "jB7e7OpYpbGc",
        "outputId": "00a05ee2-22d0-4cd8-968e-23151a542b48"
      },
      "execution_count": 8,
      "outputs": [
        {
          "output_type": "stream",
          "name": "stdout",
          "text": [
            "one string is rotation of another string\n"
          ]
        }
      ]
    },
    {
      "cell_type": "code",
      "source": [
        "#anagrams are not\n",
        "str1=\"silent\"\n",
        "str2=\"listen\"\n",
        "if sorted(str1)==sorted(str2):\n",
        "  print(\"anagram\")\n",
        "else:\n",
        "  print(\"not anagram\")"
      ],
      "metadata": {
        "colab": {
          "base_uri": "https://localhost:8080/"
        },
        "id": "8cy8rsZzpvr1",
        "outputId": "e52c38ba-3d1c-409f-ddb5-f3f20b13d0ab"
      },
      "execution_count": 6,
      "outputs": [
        {
          "output_type": "stream",
          "name": "stdout",
          "text": [
            "not anagram\n"
          ]
        }
      ]
    },
    {
      "cell_type": "code",
      "source": [
        "#largest odd number in a string\n",
        "str1=\"manikanta924262\"\n",
        "largest_odd=1\n",
        "for i in range(len(str1)):\n",
        "  if str1[i].isdigit():\n",
        "    num=int(str1[i])\n",
        "    if num%2!=0 and(largest_odd==1 or num>largest_odd):\n",
        "      largest_odd=num\n",
        "print(largest_odd)"
      ],
      "metadata": {
        "colab": {
          "base_uri": "https://localhost:8080/"
        },
        "id": "lIsjLTSTrPBp",
        "outputId": "bec46363-22ce-4da3-ba5d-c9267e0e3379"
      },
      "execution_count": 10,
      "outputs": [
        {
          "output_type": "stream",
          "name": "stdout",
          "text": [
            "9\n"
          ]
        }
      ]
    },
    {
      "cell_type": "code",
      "source": [
        "str1=\"aditya college of engineering\"\n",
        "words=str1.split()\n",
        "reversed_words=words[::-1]\n",
        "str2=\" \".join(reversed_words)\n",
        "print(str2)"
      ],
      "metadata": {
        "colab": {
          "base_uri": "https://localhost:8080/"
        },
        "id": "KMcuK45WrZcn",
        "outputId": "62ab47f7-7ce9-4b55-89f5-eaa06b0bb1eb"
      },
      "execution_count": 11,
      "outputs": [
        {
          "output_type": "stream",
          "name": "stdout",
          "text": [
            "engineering of college aditya\n"
          ]
        }
      ]
    },
    {
      "cell_type": "code",
      "source": [
        "#palindrome check\n",
        "str1=\"aditya college of engineering\"\n",
        "words=str1.split()\n",
        "reversed_words=words[::-1]\n",
        "str2=\" \".join(reversed_words)\n",
        "if str1==str2:\n",
        "  print(\"palindrome\")\n",
        "else:\n",
        "  print(\"not palindrome\")"
      ],
      "metadata": {
        "colab": {
          "base_uri": "https://localhost:8080/"
        },
        "id": "rgCoSDQPrktP",
        "outputId": "93661bf7-b809-47ca-e412-21cb6605f621"
      },
      "execution_count": 14,
      "outputs": [
        {
          "output_type": "stream",
          "name": "stdout",
          "text": [
            "not palindrome\n"
          ]
        }
      ]
    },
    {
      "cell_type": "code",
      "source": [
        "#sort charcters by freq\n",
        "str1=\"mani kanta\"\n",
        "frq={}\n",
        "for i in str1:\n",
        "  if i in frq:\n",
        "    frq[i]+=1\n",
        "  else:\n",
        "    frq[i]=1\n",
        "print(frq)\n",
        "sorted_frq=sorted(frq.items())\n",
        "print(sorted_frq)\n"
      ],
      "metadata": {
        "colab": {
          "base_uri": "https://localhost:8080/"
        },
        "id": "sqgjV9i0rs96",
        "outputId": "52496fc8-334a-4cd5-cd78-a77194d3adc8"
      },
      "execution_count": 21,
      "outputs": [
        {
          "output_type": "stream",
          "name": "stdout",
          "text": [
            "{'m': 1, 'a': 3, 'n': 2, 'i': 1, ' ': 1, 'k': 1, 't': 1}\n",
            "[(' ', 1), ('a', 3), ('i', 1), ('k', 1), ('m', 1), ('n', 2), ('t', 1)]\n"
          ]
        }
      ]
    },
    {
      "cell_type": "code",
      "source": [
        "#no of substrings\n",
        "str=\"mani\"\n",
        "n=len(str)\n",
        "sub_str=(n*(n+1))//2\n",
        "print(sub_str)"
      ],
      "metadata": {
        "colab": {
          "base_uri": "https://localhost:8080/"
        },
        "id": "na_oGfFMs7Z-",
        "outputId": "607f7fc6-038e-4724-ca85-02b279a6b0c3"
      },
      "execution_count": 25,
      "outputs": [
        {
          "output_type": "stream",
          "name": "stdout",
          "text": [
            "10\n"
          ]
        }
      ]
    },
    {
      "cell_type": "code",
      "source": [],
      "metadata": {
        "id": "4PJkLxj6tWa_"
      },
      "execution_count": null,
      "outputs": []
    }
  ]
}