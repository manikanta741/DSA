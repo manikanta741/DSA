{
  "nbformat": 4,
  "nbformat_minor": 0,
  "metadata": {
    "colab": {
      "provenance": [],
      "authorship_tag": "ABX9TyNAGYeHb14hFVH62Wt0GZHS",
      "include_colab_link": true
    },
    "kernelspec": {
      "name": "python3",
      "display_name": "Python 3"
    },
    "language_info": {
      "name": "python"
    }
  },
  "cells": [
    {
      "cell_type": "markdown",
      "metadata": {
        "id": "view-in-github",
        "colab_type": "text"
      },
      "source": [
        "<a href=\"https://colab.research.google.com/github/manikanta741/DSA/blob/main/arrays.ipynb\" target=\"_parent\"><img src=\"https://colab.research.google.com/assets/colab-badge.svg\" alt=\"Open In Colab\"/></a>"
      ]
    },
    {
      "cell_type": "code",
      "execution_count": 1,
      "metadata": {
        "colab": {
          "base_uri": "https://localhost:8080/"
        },
        "id": "nQbx0USIZrLt",
        "outputId": "f368e7ed-f37e-4839-bb4d-032acf3388d1"
      },
      "outputs": [
        {
          "output_type": "stream",
          "name": "stdout",
          "text": [
            "9\n"
          ]
        }
      ],
      "source": [
        "#largest\n",
        "l1=[1,9,2,8,3,7,6,4,5]\n",
        "max=l1[0]\n",
        "for i in l1:\n",
        "  if i>max:\n",
        "    max=i\n",
        "print(max)"
      ]
    },
    {
      "cell_type": "code",
      "source": [
        "#second largest\n",
        "arr=[1,2,3,4,5,6]\n",
        "largest=second_largest=0\n",
        "for i in arr:\n",
        "  if i>largest:\n",
        "    second_largest=largest\n",
        "    largest=i\n",
        "  else:\n",
        "    second_largest=i\n",
        "print(largest)\n",
        "print(second_largest)"
      ],
      "metadata": {
        "colab": {
          "base_uri": "https://localhost:8080/"
        },
        "id": "LnRoiDaeaD2s",
        "outputId": "aa8da653-0ebc-4531-84c0-7f5d0db5f001"
      },
      "execution_count": 10,
      "outputs": [
        {
          "output_type": "stream",
          "name": "stdout",
          "text": [
            "6\n",
            "5\n"
          ]
        }
      ]
    },
    {
      "cell_type": "code",
      "source": [
        "#array is sorted or notarr1=[5,6,7,8,9]\n",
        "for i in range(len(arr1) -1):\n",
        "  if arr1[i]>arr1[i+1]:\n",
        "    print(\"arr is not sorted\")\n",
        "    break\n",
        "else:\n",
        "  print(\"arr is sorted\")"
      ],
      "metadata": {
        "colab": {
          "base_uri": "https://localhost:8080/"
        },
        "id": "pkQ3TiQ5bPuB",
        "outputId": "fd3fd58f-5dfd-492e-da45-6750d860e459"
      },
      "execution_count": 21,
      "outputs": [
        {
          "output_type": "stream",
          "name": "stdout",
          "text": [
            "arr is sorted\n"
          ]
        }
      ]
    },
    {
      "cell_type": "code",
      "source": [
        "#remove duplicates\n",
        "l1=[1,2,3,2,1,4,5]\n",
        "l2=[]\n",
        "for i in l1:\n",
        "  if i not in l2:\n",
        "    l2.append(i)\n",
        "print(l2)\n"
      ],
      "metadata": {
        "colab": {
          "base_uri": "https://localhost:8080/"
        },
        "id": "_Rc2n0O3bt1F",
        "outputId": "436e5a93-3ecf-48d5-9e11-09c874a487b3"
      },
      "execution_count": 24,
      "outputs": [
        {
          "output_type": "stream",
          "name": "stdout",
          "text": [
            "[1, 2, 3, 4, 5]\n"
          ]
        }
      ]
    },
    {
      "cell_type": "code",
      "source": [
        "#rotate array\n",
        "arr1=[1,2,3,4,5]\n",
        "temp=arr1[0]\n",
        "for i in range(1,len(arr1)):\n",
        "  arr1[i-1]=arr1[i]\n",
        "arr1[-1]=temp\n",
        "print(arr1)"
      ],
      "metadata": {
        "colab": {
          "base_uri": "https://localhost:8080/"
        },
        "id": "JU2wIem-czfM",
        "outputId": "b4404f80-b738-4ea2-85b6-b54f3d1dde48"
      },
      "execution_count": 98,
      "outputs": [
        {
          "output_type": "stream",
          "name": "stdout",
          "text": [
            "[2, 3, 4, 5, 1]\n"
          ]
        }
      ]
    },
    {
      "cell_type": "code",
      "source": [
        "#rotate array for n times\n",
        "arr1=[1,2,3,4,5]\n",
        "temp=arr1[:3]\n",
        "for i in range(3,len(arr1)):\n",
        "  arr1[i-3]=arr1[i]\n",
        "arr1[-3:]=temp\n",
        "print(arr1)"
      ],
      "metadata": {
        "colab": {
          "base_uri": "https://localhost:8080/"
        },
        "id": "ZqeDcPYwcrb1",
        "outputId": "74a658bb-8cbb-40b5-f6c3-8bdf1cdea4d1"
      },
      "execution_count": 34,
      "outputs": [
        {
          "output_type": "stream",
          "name": "stdout",
          "text": [
            "[4, 5, 1, 2, 3]\n"
          ]
        }
      ]
    },
    {
      "cell_type": "code",
      "source": [
        "#move zeroes to  end\n",
        "arr=[1,0,2,0,3,0,4]\n",
        "zero_ptr=0\n",
        "for i in range(len(arr)):\n",
        "  if arr[i]!=0:\n",
        "    arr[zero_ptr],arr[i]=arr[i],arr[zero_ptr]\n",
        "    zero_ptr+=1\n",
        "print(arr)"
      ],
      "metadata": {
        "colab": {
          "base_uri": "https://localhost:8080/"
        },
        "id": "dVECI7VDd34f",
        "outputId": "72347aee-6c5e-4cc0-f2ec-ba8e51610ca9"
      },
      "execution_count": 38,
      "outputs": [
        {
          "output_type": "stream",
          "name": "stdout",
          "text": [
            "[1, 2, 3, 4, 0, 0, 0]\n"
          ]
        }
      ]
    },
    {
      "cell_type": "code",
      "source": [
        "arr1=[1,2,3,4,5]\n",
        "target=3\n",
        "for i in arr1:\n",
        "  if i==target:\n",
        "    print(i)\n",
        "    break\n",
        "else:\n",
        "  print(\"not found\")"
      ],
      "metadata": {
        "colab": {
          "base_uri": "https://localhost:8080/"
        },
        "id": "2pDMGZEDevB2",
        "outputId": "1f31312b-afc0-4cab-ea46-63d2f5036733"
      },
      "execution_count": 45,
      "outputs": [
        {
          "output_type": "stream",
          "name": "stdout",
          "text": [
            "3\n"
          ]
        }
      ]
    },
    {
      "cell_type": "code",
      "source": [
        "#intersection\n",
        "def intersection_using_sets(arr1, arr2):\n",
        "    set1 = set(arr1)\n",
        "    set2 = set(arr2)\n",
        "    intersection = list(set1.intersection(set2))\n",
        "    return intersection\n",
        "arr1=[1,2,3,4]\n",
        "arr2=[2,3,4,5]\n",
        "print(intersection_using_sets(arr1,arr2))"
      ],
      "metadata": {
        "colab": {
          "base_uri": "https://localhost:8080/"
        },
        "id": "8Lh2xBOcgMrc",
        "outputId": "f49007be-787b-4831-c81a-3d601547b8fa"
      },
      "execution_count": 46,
      "outputs": [
        {
          "output_type": "stream",
          "name": "stdout",
          "text": [
            "[2, 3, 4]\n"
          ]
        }
      ]
    },
    {
      "cell_type": "code",
      "source": [
        "#union\n",
        "def union_using_sets(arr1, arr2):\n",
        "    set1 = set(arr1)\n",
        "    set2 = set(arr2)\n",
        "    union= list(set1.union(set2))\n",
        "    return union\n",
        "arr1=[1,2,3,4]\n",
        "arr2=[2,3,4,5]\n",
        "print(union_using_sets(arr1,arr2))"
      ],
      "metadata": {
        "colab": {
          "base_uri": "https://localhost:8080/"
        },
        "id": "AUPrb4n9gu7W",
        "outputId": "13c036d9-e279-4de6-9d47-dfe0519eaedf"
      },
      "execution_count": 48,
      "outputs": [
        {
          "output_type": "stream",
          "name": "stdout",
          "text": [
            "[1, 2, 3, 4, 5]\n"
          ]
        }
      ]
    },
    {
      "cell_type": "code",
      "source": [
        "#missing number\n",
        "arr1=[1,2,4,5]\n",
        "n=len(arr1)+1\n",
        "total_sum=(n*(n+1))//2\n",
        "arr_sum=sum(arr1)\n",
        "missing_num=total_sum-arr_sum\n",
        "print(missing_num)"
      ],
      "metadata": {
        "colab": {
          "base_uri": "https://localhost:8080/"
        },
        "id": "lq3YDaTsg9_4",
        "outputId": "8c94ee8e-48b4-4e89-cb55-812d86703144"
      },
      "execution_count": 54,
      "outputs": [
        {
          "output_type": "stream",
          "name": "stdout",
          "text": [
            "3\n"
          ]
        }
      ]
    },
    {
      "cell_type": "code",
      "source": [
        "#elemnt that appears once\n",
        "arr2=[2,2,3,4,5,4,6,5,6]\n",
        "count=0\n",
        "for i in range(len(arr2)):\n",
        "  if arr2.count(i)==1:\n",
        "    print(i)"
      ],
      "metadata": {
        "colab": {
          "base_uri": "https://localhost:8080/"
        },
        "id": "FgZp66kRiHuJ",
        "outputId": "583df45d-a551-44aa-e9a1-c569077093d4"
      },
      "execution_count": 58,
      "outputs": [
        {
          "output_type": "stream",
          "name": "stdout",
          "text": [
            "3\n"
          ]
        }
      ]
    },
    {
      "cell_type": "code",
      "source": [
        "#two sum prorblem\n",
        "arr=[1,2,3,4,5]\n",
        "target=9\n",
        "num_dict={}\n",
        "for  i in range(len(arr)):\n",
        "  complement=target-arr[i]\n",
        "  if complement in num_dict:\n",
        "    print(num_dict[complement],arr[i])\n",
        "  num_dict[arr[i]]=i\n",
        "\n",
        "\n"
      ],
      "metadata": {
        "colab": {
          "base_uri": "https://localhost:8080/"
        },
        "id": "1csrR4WIik3h",
        "outputId": "5af2c8c7-2d5e-43a0-d19a-67a008ec0920"
      },
      "execution_count": 61,
      "outputs": [
        {
          "output_type": "stream",
          "name": "stdout",
          "text": [
            "3 5\n"
          ]
        }
      ]
    },
    {
      "cell_type": "code",
      "source": [
        "#majority element\n",
        "arr1=[1,2,1,3,4,1,1,1]\n",
        "freq={}\n",
        "for i in arr1:\n",
        "  if i in freq:\n",
        "    freq[i]+=1\n",
        "  else:\n",
        "    freq[i]=1\n",
        "print(freq)\n",
        "if freq[i]>len(arr1)//2:\n",
        "  print(\"majorityelement is\",i)"
      ],
      "metadata": {
        "colab": {
          "base_uri": "https://localhost:8080/"
        },
        "id": "dP0vG3vKjXO8",
        "outputId": "636246c5-06d3-4511-8601-53724ab5ed44"
      },
      "execution_count": 64,
      "outputs": [
        {
          "output_type": "stream",
          "name": "stdout",
          "text": [
            "{1: 5, 2: 1, 3: 1, 4: 1}\n",
            "majorityelement is 1\n"
          ]
        }
      ]
    },
    {
      "cell_type": "code",
      "source": [
        "##rotate the array 90 degrees\n",
        "def rotate_matrix_90_degrees(matrix):\n",
        "    n = len(matrix)\n",
        "    rotated = [[0] * n for _ in range(n)]\n",
        "\n",
        "    for i in range(n):\n",
        "        for j in range(n):\n",
        "            rotated[j][i] = matrix[n - i - 1][j]\n",
        "\n",
        "    return rotated\n",
        "arr1 = [[1, 2, 3, 4], [5, 6, 7, 8], [9, 10, 11, 12], [13, 14, 15, 16]]\n",
        "rotated_arr1 = rotate_matrix_90_degrees(arr1)\n",
        "for row in rotated_arr1:\n",
        "    print(row)"
      ],
      "metadata": {
        "colab": {
          "base_uri": "https://localhost:8080/"
        },
        "id": "Wg3x3v__j6F8",
        "outputId": "c308893a-bcad-40c7-95a2-aa6d598d5ed0"
      },
      "execution_count": 67,
      "outputs": [
        {
          "output_type": "stream",
          "name": "stdout",
          "text": [
            "[13, 9, 5, 1]\n",
            "[14, 10, 6, 2]\n",
            "[15, 11, 7, 3]\n",
            "[16, 12, 8, 4]\n"
          ]
        }
      ]
    },
    {
      "cell_type": "code",
      "source": [
        "#binary search\n",
        "arr=[1,2,3,4,5,6,7,8,9]\n",
        "n=len(arr)\n",
        "low=0\n",
        "high=n-1\n",
        "while low<=high:\n",
        "  mid=(low+high)//2\n",
        "  if arr[mid]==target:\n",
        "    print(mid)\n",
        "    break\n",
        "  elif arr[mid]<target:\n",
        "    low=mid+1\n",
        "  else:\n",
        "    high=mid-1\n",
        "else:\n",
        "  print(\"not found\")"
      ],
      "metadata": {
        "colab": {
          "base_uri": "https://localhost:8080/"
        },
        "id": "3qSums3fkhVK",
        "outputId": "6272628f-afe4-4d47-9f9f-2bc40cdf4698"
      },
      "execution_count": 72,
      "outputs": [
        {
          "output_type": "stream",
          "name": "stdout",
          "text": [
            "8\n"
          ]
        }
      ]
    },
    {
      "cell_type": "code",
      "source": [
        "def search_insert(nums, target):\n",
        "    left, right = 0, len(nums) - 1\n",
        "\n",
        "    while left <= right:\n",
        "        mid = (left + right) // 2\n",
        "\n",
        "        if nums[mid] == target:\n",
        "            return mid\n",
        "        elif nums[mid] < target:\n",
        "            left = mid + 1\n",
        "        else:\n",
        "            right = mid - 1\n",
        "\n",
        "    return left\n",
        "\n",
        "nums = [1, 3, 5, 6]\n",
        "target = 5\n",
        "print(search_insert(nums, target))\n",
        "\n",
        "target = 2\n",
        "print(search_insert(nums, target))\n",
        "\n",
        "target = 7\n",
        "print(search_insert(nums, target))"
      ],
      "metadata": {
        "colab": {
          "base_uri": "https://localhost:8080/"
        },
        "id": "XawHIiFllHVK",
        "outputId": "29acb49c-ffc4-423a-de4f-99a5b4776112"
      },
      "execution_count": 73,
      "outputs": [
        {
          "output_type": "stream",
          "name": "stdout",
          "text": [
            "2\n",
            "1\n",
            "4\n"
          ]
        }
      ]
    },
    {
      "cell_type": "code",
      "source": [
        "#first occurance\n",
        "def find_first_occurrence(arr, target):\n",
        "\n",
        "\n",
        "    left, right = 0, len(arr) - 1\n",
        "    result = -1\n",
        "\n",
        "    while left <= right:\n",
        "        mid = (left + right) // 2\n",
        "\n",
        "        if arr[mid] == target:\n",
        "            result = mid\n",
        "            right = mid - 1\n",
        "\n",
        "        elif arr[mid] < target:\n",
        "            left = mid + 1\n",
        "        else:\n",
        "            right = mid - 1\n",
        "\n",
        "    return result\n",
        "\n",
        "\n",
        "arr = [2, 4, 10, 10, 10, 18, 20]\n",
        "target = 10\n",
        "print(find_first_occurrence(arr, target))"
      ],
      "metadata": {
        "colab": {
          "base_uri": "https://localhost:8080/"
        },
        "id": "UWK2iE_HlgCz",
        "outputId": "821509cf-15b0-497f-d335-4e4be7972897"
      },
      "execution_count": 76,
      "outputs": [
        {
          "output_type": "stream",
          "name": "stdout",
          "text": [
            "2\n"
          ]
        }
      ]
    },
    {
      "cell_type": "code",
      "source": [
        "#last occurance\n",
        "def las_occurrence(arr, target):\n",
        "\n",
        "    left, right = 0, len(arr) - 1\n",
        "    result = -1\n",
        "\n",
        "    while left <= right:\n",
        "        mid = (left + right) // 2\n",
        "\n",
        "        if arr[mid] == target:\n",
        "            result = mid\n",
        "            left = mid + 1\n",
        "\n",
        "        elif arr[mid] < target:\n",
        "            left = mid + 1\n",
        "        else:\n",
        "            right = mid - 1\n",
        "\n",
        "    return result\n",
        "\n",
        "\n",
        "arr = [2, 4, 10, 10, 10,18, 20]\n",
        "target = 10\n",
        "print(las_occurrence(arr, target))"
      ],
      "metadata": {
        "colab": {
          "base_uri": "https://localhost:8080/"
        },
        "id": "-bIg870Rle3k",
        "outputId": "9dab1032-3d89-45f6-ac72-72ab72e23146"
      },
      "execution_count": 75,
      "outputs": [
        {
          "output_type": "stream",
          "name": "stdout",
          "text": [
            "4\n"
          ]
        }
      ]
    },
    {
      "cell_type": "code",
      "source": [
        "#single element in sorted array\n",
        "arr3=[1,1,2,3,3,4,4]\n",
        "count=0\n",
        "for i in arr3:\n",
        "  if arr3.count(i)==1:\n",
        "    print(i)"
      ],
      "metadata": {
        "colab": {
          "base_uri": "https://localhost:8080/"
        },
        "id": "QXNTo9gMl1lv",
        "outputId": "1438563c-c9d7-4097-c89b-e33e0756314a"
      },
      "execution_count": 78,
      "outputs": [
        {
          "output_type": "stream",
          "name": "stdout",
          "text": [
            "2\n"
          ]
        }
      ]
    },
    {
      "cell_type": "code",
      "source": [
        "#peak element\n",
        "arr4=[1,2,4,5,9,6,8]\n",
        "for  i in range(1,len(arr4)-1):\n",
        "  if arr4[i]>arr4[i+1] and arr4[i]>arr4[i-1]:\n",
        "    print(arr4[i])"
      ],
      "metadata": {
        "colab": {
          "base_uri": "https://localhost:8080/"
        },
        "id": "sWBhM3vEl85a",
        "outputId": "ba926bb2-b9c2-44b0-9e03-5725852a6e73"
      },
      "execution_count": 91,
      "outputs": [
        {
          "output_type": "stream",
          "name": "stdout",
          "text": [
            "9\n"
          ]
        }
      ]
    },
    {
      "cell_type": "code",
      "source": [
        "#search in 2d array\n",
        "arr5=[[1,2,3],[4,5,6],[7,8,9]]\n",
        "target=5\n",
        "for row_idx,row in enumerate(arr5):\n",
        "  if target in row:\n",
        "    col_ind=row.index(target)\n",
        "    print(row_idx,col_ind)"
      ],
      "metadata": {
        "colab": {
          "base_uri": "https://localhost:8080/"
        },
        "id": "RT_sPmJFml1j",
        "outputId": "b4536e48-f778-4f85-ec52-f4ff48b173c5"
      },
      "execution_count": 92,
      "outputs": [
        {
          "output_type": "stream",
          "name": "stdout",
          "text": [
            "1 1\n"
          ]
        }
      ]
    },
    {
      "cell_type": "code",
      "source": [
        "#smallest divisor\n",
        "num=15\n",
        "for i in range(2,int(num**0.5)+1):\n",
        "  if num%i==0:\n",
        "    print(i)\n",
        "    break\n",
        "else:\n",
        "  print(\"no factors\")"
      ],
      "metadata": {
        "colab": {
          "base_uri": "https://localhost:8080/"
        },
        "id": "enJgBjS_nxqs",
        "outputId": "fe9966a7-af97-4c62-832f-6cd7c478181d"
      },
      "execution_count": 97,
      "outputs": [
        {
          "output_type": "stream",
          "name": "stdout",
          "text": [
            "3\n"
          ]
        }
      ]
    }
  ]
}