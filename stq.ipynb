{
  "nbformat": 4,
  "nbformat_minor": 0,
  "metadata": {
    "colab": {
      "provenance": [],
      "authorship_tag": "ABX9TyObQelPf726OtYGQlWwxEc2",
      "include_colab_link": true
    },
    "kernelspec": {
      "name": "python3",
      "display_name": "Python 3"
    },
    "language_info": {
      "name": "python"
    }
  },
  "cells": [
    {
      "cell_type": "markdown",
      "metadata": {
        "id": "view-in-github",
        "colab_type": "text"
      },
      "source": [
        "<a href=\"https://colab.research.google.com/github/manikanta741/DSA/blob/main/stq.ipynb\" target=\"_parent\"><img src=\"https://colab.research.google.com/assets/colab-badge.svg\" alt=\"Open In Colab\"/></a>"
      ]
    },
    {
      "cell_type": "code",
      "execution_count": 9,
      "metadata": {
        "colab": {
          "base_uri": "https://localhost:8080/"
        },
        "id": "0gGl8prNL_Zi",
        "outputId": "c87251a8-4ed1-4dcd-cc0a-f133beb4bdbb"
      },
      "outputs": [
        {
          "output_type": "stream",
          "name": "stdout",
          "text": [
            "[10, 20, 30]\n",
            "<bound method stack.peek of <__main__.stack object at 0x7b7043554a10>>\n",
            "<bound method stack.is_empty of <__main__.stack object at 0x7b7043554a10>>\n"
          ]
        }
      ],
      "source": [
        "class stack:\n",
        "  def __init__(self):\n",
        "    self.stack=[]\n",
        "  def push(self,element):\n",
        "    self.stack.append(element)\n",
        "  def pop(self):\n",
        "    if self.is_empty():\n",
        "      return None\n",
        "    else:\n",
        "      return self.stack.pop()\n",
        "  def is_empty(self):\n",
        "    return len(self.stack)==0\n",
        "  def peek(self):\n",
        "    return self.stack[-1]\n",
        "  def display(self):\n",
        "    print(self.stack)\n",
        "Stack=stack()\n",
        "Stack.push(10)\n",
        "Stack.push(20)\n",
        "Stack.push(30)\n",
        "Stack.push(40)\n",
        "Stack.pop()\n",
        "Stack.display()\n",
        "print(Stack.peek)\n",
        "print(Stack.is_empty)\n",
        "\n",
        "\n"
      ]
    },
    {
      "cell_type": "code",
      "source": [
        "class Queue:\n",
        "    def __init__(self):\n",
        "        self.queue = []\n",
        "\n",
        "    def enqueue(self, item):\n",
        "        self.queue.append(item)\n",
        "        print(f\"Enqueued {item} to the queue.\")\n",
        "\n",
        "    def dequeue(self):\n",
        "        if self.is_empty():\n",
        "            print(\"Queue underflow! Cannot dequeue from an empty queue.\")\n",
        "            return None\n",
        "        return self.queue.pop(0)\n",
        "\n",
        "    def peek(self):\n",
        "        if self.is_empty():\n",
        "            print(\"Queue is empty. Nothing to peek.\")\n",
        "            return None\n",
        "        return self.queue[0]\n",
        "\n",
        "    def is_empty(self):\n",
        "        return len(self.queue) == 0\n",
        "\n",
        "    def size(self):\n",
        "        return len(self.queue)\n",
        "\n",
        "    def display(self):\n",
        "        print(\"Queue:\", self.queue)\n",
        "\n",
        "\n",
        "# Example usage\n",
        "if __name__ == \"__main__\":\n",
        "    queue = Queue()\n",
        "\n",
        "    print(\"Queue Operations:\")\n",
        "    queue.enqueue(10)\n",
        "    queue.enqueue(20)\n",
        "    queue.enqueue(30)\n",
        "    queue.display()\n",
        "\n",
        "    print(\"\\nDequeued item:\", queue.dequeue())\n",
        "    print(\"Front item after dequeue:\", queue.peek())\n",
        "    queue.display()\n",
        "\n",
        "    print(\"\\nQueue size:\", queue.size())\n",
        "    print(\"Is queue empty?\", queue.is_empty())"
      ],
      "metadata": {
        "colab": {
          "base_uri": "https://localhost:8080/"
        },
        "id": "AI6nd150Mtj1",
        "outputId": "ce184552-7884-485a-ecee-076065721dd9"
      },
      "execution_count": 10,
      "outputs": [
        {
          "output_type": "stream",
          "name": "stdout",
          "text": [
            "Queue Operations:\n",
            "Enqueued 10 to the queue.\n",
            "Enqueued 20 to the queue.\n",
            "Enqueued 30 to the queue.\n",
            "Queue: [10, 20, 30]\n",
            "\n",
            "Dequeued item: 10\n",
            "Front item after dequeue: 20\n",
            "Queue: [20, 30]\n",
            "\n",
            "Queue size: 2\n",
            "Is queue empty? False\n"
          ]
        }
      ]
    }
  ]
}